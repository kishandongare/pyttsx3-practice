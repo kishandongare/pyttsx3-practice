{
 "cells": [
  {
   "cell_type": "code",
   "execution_count": 1,
   "metadata": {},
   "outputs": [],
   "source": [
    "import pyttsx3\n"
   ]
  },
  {
   "cell_type": "code",
   "execution_count": null,
   "metadata": {},
   "outputs": [],
   "source": [
    "It works offline, unlike other text-to-speech libraries. Rather than saving the text as audio file, \n",
    "pyttsx actually speaks it there. This makes it more reliable to use for voice-based projects."
   ]
  },
  {
   "cell_type": "code",
   "execution_count": null,
   "metadata": {},
   "outputs": [],
   "source": [
    "#An application invokes the pyttsx3.init() factory function to get a reference to a pyttsx3.Engine instance."
   ]
  },
  {
   "cell_type": "code",
   "execution_count": null,
   "metadata": {},
   "outputs": [],
   "source": [
    "#The pyttsx3 module supports two voices first is female and the second is male which is provided by “sapi5” for windows."
   ]
  },
  {
   "cell_type": "code",
   "execution_count": null,
   "metadata": {},
   "outputs": [],
   "source": [
    "It supports three TTS engines :\n",
    "\n",
    "sapi5 – SAPI5 on Windows\n",
    "nsss  –  NSSpeechSynthesizer on Mac OS X\n",
    "espeak – eSpeak on every other platform"
   ]
  },
  {
   "cell_type": "code",
   "execution_count": null,
   "metadata": {},
   "outputs": [],
   "source": [
    "Usage –\n",
    "First we need to import the library and then initialise it using init() function. This function may take 2 arguments.\n",
    "init(driverName string, debug bool)\n",
    "\n",
    "drivername : [Name of available driver] sapi5 on Windows | nsss on MacOS\n",
    "debug: to enable or disable debug output\n",
    "After initialisation, we will make the program speak the text using say() function. This method may also take 2 arguments.\n",
    "say(text unicode, name string)\n",
    "text : Any text you wish to hear.\n",
    "name : To set a name for this speech. (optional)\n",
    "Finally, to run the speech we use runAndWait() All the say() texts won’t be said unless the interpreter encounters runAndWait()."
   ]
  },
  {
   "cell_type": "code",
   "execution_count": 5,
   "metadata": {},
   "outputs": [],
   "source": [
    "# Import the required module for text  \n",
    "# to speech conversion\n",
    "import pyttsx3\n",
    "  \n",
    "# init function to get an engine instance for the speech synthesis \n",
    "engine = pyttsx3.init()\n",
    "  \n",
    "# say method on the engine that passing input text to be spoken\n",
    "engine.say('Hello sir, how may I help you, sir.')\n",
    "  \n",
    "# run and wait method, it processes the voice commands. \n",
    "engine.runAndWait()"
   ]
  },
  {
   "cell_type": "code",
   "execution_count": null,
   "metadata": {},
   "outputs": [],
   "source": [
    "getProperty(name : string) –> Gets the current value of an engine property.\n",
    "\n",
    "setProperty(name, value) –> Queues a command to set an engine property.\n",
    "The new property value affects all utterances queued after this command."
   ]
  },
  {
   "cell_type": "code",
   "execution_count": 2,
   "metadata": {},
   "outputs": [],
   "source": [
    "import pyttsx3\n",
    "engine = pyttsx3.init()\n",
    "voices = engine.getProperty('voices')\n",
    "engine.setProperty('voice', voices[1].id)\n",
    "#changing index changes voices but ony 0 and 1 are working here\n",
    "engine.say('Hello sir, how may I help you, sir.')\n",
    "engine.runAndWait()"
   ]
  },
  {
   "cell_type": "code",
   "execution_count": null,
   "metadata": {},
   "outputs": [],
   "source": [
    "#To get the list of voices, write the following code."
   ]
  },
  {
   "cell_type": "code",
   "execution_count": 5,
   "metadata": {},
   "outputs": [
    {
     "name": "stdout",
     "output_type": "stream",
     "text": [
      "Voice:\n",
      "ID: HKEY_LOCAL_MACHINE\\SOFTWARE\\Microsoft\\Speech\\Voices\\Tokens\\TTS_MS_EN-US_DAVID_11.0\n",
      "Name: Microsoft David Desktop - English (United States)\n",
      "Age: None\n",
      "Gender: None\n",
      "Languages Known: []\n",
      "Voice:\n",
      "ID: HKEY_LOCAL_MACHINE\\SOFTWARE\\Microsoft\\Speech\\Voices\\Tokens\\TTS_MS_EN-US_ZIRA_11.0\n",
      "Name: Microsoft Zira Desktop - English (United States)\n",
      "Age: None\n",
      "Gender: None\n",
      "Languages Known: []\n"
     ]
    }
   ],
   "source": [
    "engine = pyttsx3.init()\n",
    "voices = engine.getProperty('voices')\n",
    "  \n",
    "for voice in voices:\n",
    "    # to get the info.about various voices in our PC \n",
    "    print(\"Voice:\")\n",
    "    print(\"ID: %s\" %voice.id)\n",
    "    print(\"Name: %s\" %voice.name)\n",
    "    print(\"Age: %s\" %voice.age)\n",
    "    print(\"Gender: %s\" %voice.gender)\n",
    "    print(\"Languages Known: %s\" %voice.languages)"
   ]
  },
  {
   "cell_type": "code",
   "execution_count": null,
   "metadata": {},
   "outputs": [],
   "source": [
    "#Saving voice to a file"
   ]
  },
  {
   "cell_type": "code",
   "execution_count": 6,
   "metadata": {},
   "outputs": [],
   "source": [
    "import pyttsx3\n",
    "engine = pyttsx3.init()\n",
    "engine.save_to_file('Hello World' , 'test.mp3')\n",
    "engine.runAndWait()"
   ]
  },
  {
   "cell_type": "code",
   "execution_count": null,
   "metadata": {},
   "outputs": [],
   "source": [
    "#Listening for events"
   ]
  },
  {
   "cell_type": "code",
   "execution_count": 1,
   "metadata": {},
   "outputs": [
    {
     "name": "stdout",
     "output_type": "stream",
     "text": [
      "starting None\n",
      "word None 0 3\n",
      "word None 4 5\n",
      "word None 10 5\n",
      "word None 16 3\n",
      "word None 20 6\n",
      "word None 27 4\n",
      "word None 32 3\n",
      "word None 36 4\n",
      "word None 41 3\n",
      "finishing None True\n"
     ]
    }
   ],
   "source": [
    "import pyttsx3\n",
    "def onStart(name):\n",
    "   print('starting', name) \n",
    "\n",
    "def onWord(name, location, length):\n",
    "   print('word', name, location, length) \n",
    "\n",
    "def onEnd(name, completed):\n",
    "   print('finishing', name, completed)\n",
    "\n",
    "engine = pyttsx3.init()\n",
    "\n",
    "engine.connect('started-utterance', onStart)\n",
    "\n",
    "engine.connect('started-word', onWord)\n",
    "\n",
    "engine.connect('finished-utterance', onEnd)\n",
    "\n",
    "engine.say('The quick brown fox jumped over the lazy dog.')\n",
    "\n",
    "engine.runAndWait()"
   ]
  },
  {
   "cell_type": "code",
   "execution_count": null,
   "metadata": {},
   "outputs": [],
   "source": [
    "#Changing voices"
   ]
  },
  {
   "cell_type": "code",
   "execution_count": 2,
   "metadata": {},
   "outputs": [
    {
     "name": "stdout",
     "output_type": "stream",
     "text": [
      "starting None\n",
      "word None 0 3\n",
      "word None 4 5\n",
      "word None 10 5\n",
      "word None 16 3\n",
      "word None 20 6\n",
      "word None 27 4\n",
      "word None 32 3\n",
      "word None 36 4\n",
      "word None 41 3\n",
      "finishing None True\n",
      "starting None\n",
      "word None 0 3\n",
      "word None 4 5\n",
      "word None 10 5\n",
      "word None 16 3\n",
      "word None 20 6\n",
      "word None 27 4\n",
      "word None 32 3\n",
      "word None 36 4\n",
      "word None 41 3\n",
      "finishing None True\n"
     ]
    }
   ],
   "source": [
    "engine = pyttsx3.init()\n",
    "voices = engine.getProperty('voices')\n",
    "for voice in voices:\n",
    "   engine.setProperty('voice', voice.id)\n",
    "   engine.say('The quick brown fox jumped over the lazy dog.')\n",
    "engine.runAndWait()"
   ]
  },
  {
   "cell_type": "code",
   "execution_count": null,
   "metadata": {},
   "outputs": [],
   "source": [
    "#Changing speech rate"
   ]
  },
  {
   "cell_type": "code",
   "execution_count": 5,
   "metadata": {},
   "outputs": [
    {
     "name": "stdout",
     "output_type": "stream",
     "text": [
      "starting None\n",
      "word None 0 3\n",
      "word None 4 5\n",
      "word None 10 5\n",
      "word None 16 3\n",
      "word None 20 6\n",
      "word None 27 4\n",
      "word None 32 3\n",
      "word None 36 4\n",
      "word None 41 3\n",
      "finishing None True\n"
     ]
    }
   ],
   "source": [
    "engine = pyttsx3.init()\n",
    "rate = engine.getProperty('rate')\n",
    "engine.setProperty('rate', rate+50)\n",
    "engine.say('The quick brown fox jumped over the lazy dog.')\n",
    "engine.runAndWait()"
   ]
  },
  {
   "cell_type": "code",
   "execution_count": null,
   "metadata": {},
   "outputs": [],
   "source": [
    "#Changing volume"
   ]
  },
  {
   "cell_type": "code",
   "execution_count": 6,
   "metadata": {},
   "outputs": [
    {
     "name": "stdout",
     "output_type": "stream",
     "text": [
      "starting None\n",
      "word None 0 3\n",
      "word None 4 5\n",
      "word None 10 5\n",
      "word None 16 3\n",
      "word None 20 6\n",
      "word None 27 4\n",
      "word None 32 3\n",
      "word None 36 4\n",
      "word None 41 3\n",
      "finishing None True\n"
     ]
    }
   ],
   "source": [
    "engine = pyttsx3.init()\n",
    "volume = engine.getProperty('volume')\n",
    "engine.setProperty('volume', volume-0.25)\n",
    "engine.say('The quick brown fox jumped over the lazy dog.')\n",
    "engine.runAndWait()"
   ]
  },
  {
   "cell_type": "code",
   "execution_count": null,
   "metadata": {},
   "outputs": [],
   "source": []
  }
 ],
 "metadata": {
  "kernelspec": {
   "display_name": "Python 3",
   "language": "python",
   "name": "python3"
  },
  "language_info": {
   "codemirror_mode": {
    "name": "ipython",
    "version": 3
   },
   "file_extension": ".py",
   "mimetype": "text/x-python",
   "name": "python",
   "nbconvert_exporter": "python",
   "pygments_lexer": "ipython3",
   "version": "3.7.0"
  }
 },
 "nbformat": 4,
 "nbformat_minor": 4
}
